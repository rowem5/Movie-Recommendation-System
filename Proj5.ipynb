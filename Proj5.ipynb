{
 "cells": [
  {
   "cell_type": "code",
   "execution_count": 1,
   "metadata": {},
   "outputs": [],
   "source": [
    "import pandas as pd\n",
    "import numpy as np\n",
    "import matplotlib.pyplot as plt\n",
    "\n",
    "\n",
    "ratings = pd.read_csv('ratings.csv', sep='\\t', encoding='latin-1', usecols=['user_id', 'movie_id', 'rating'])\n",
    "\n",
    "\n",
    "users = pd.read_csv('users.csv', sep='\\t', encoding='latin-1', usecols=['user_id', 'gender', 'zipcode', 'age_desc', 'occ_desc'])\n",
    "\n",
    "\n",
    "movies = pd.read_csv('movies.csv', sep='\\t', encoding='latin-1', usecols=['movie_id', 'title', 'genres'])"
   ]
  },
  {
   "cell_type": "code",
   "execution_count": 2,
   "metadata": {},
   "outputs": [
    {
     "data": {
      "text/html": [
       "<div>\n",
       "<style scoped>\n",
       "    .dataframe tbody tr th:only-of-type {\n",
       "        vertical-align: middle;\n",
       "    }\n",
       "\n",
       "    .dataframe tbody tr th {\n",
       "        vertical-align: top;\n",
       "    }\n",
       "\n",
       "    .dataframe thead th {\n",
       "        text-align: right;\n",
       "    }\n",
       "</style>\n",
       "<table border=\"1\" class=\"dataframe\">\n",
       "  <thead>\n",
       "    <tr style=\"text-align: right;\">\n",
       "      <th></th>\n",
       "      <th>user_id</th>\n",
       "      <th>movie_id</th>\n",
       "      <th>rating</th>\n",
       "    </tr>\n",
       "  </thead>\n",
       "  <tbody>\n",
       "    <tr>\n",
       "      <td>0</td>\n",
       "      <td>1</td>\n",
       "      <td>1193</td>\n",
       "      <td>5</td>\n",
       "    </tr>\n",
       "    <tr>\n",
       "      <td>1</td>\n",
       "      <td>1</td>\n",
       "      <td>661</td>\n",
       "      <td>3</td>\n",
       "    </tr>\n",
       "    <tr>\n",
       "      <td>2</td>\n",
       "      <td>1</td>\n",
       "      <td>914</td>\n",
       "      <td>3</td>\n",
       "    </tr>\n",
       "    <tr>\n",
       "      <td>3</td>\n",
       "      <td>1</td>\n",
       "      <td>3408</td>\n",
       "      <td>4</td>\n",
       "    </tr>\n",
       "    <tr>\n",
       "      <td>4</td>\n",
       "      <td>1</td>\n",
       "      <td>2355</td>\n",
       "      <td>5</td>\n",
       "    </tr>\n",
       "  </tbody>\n",
       "</table>\n",
       "</div>"
      ],
      "text/plain": [
       "   user_id  movie_id  rating\n",
       "0        1      1193       5\n",
       "1        1       661       3\n",
       "2        1       914       3\n",
       "3        1      3408       4\n",
       "4        1      2355       5"
      ]
     },
     "execution_count": 2,
     "metadata": {},
     "output_type": "execute_result"
    }
   ],
   "source": [
    "ratings.head()"
   ]
  },
  {
   "cell_type": "code",
   "execution_count": 3,
   "metadata": {},
   "outputs": [
    {
     "name": "stdout",
     "output_type": "stream",
     "text": [
      "<class 'pandas.core.frame.DataFrame'>\n",
      "RangeIndex: 1000209 entries, 0 to 1000208\n",
      "Data columns (total 3 columns):\n",
      "user_id     1000209 non-null int64\n",
      "movie_id    1000209 non-null int64\n",
      "rating      1000209 non-null int64\n",
      "dtypes: int64(3)\n",
      "memory usage: 22.9 MB\n"
     ]
    }
   ],
   "source": [
    "ratings.info()"
   ]
  },
  {
   "cell_type": "code",
   "execution_count": 4,
   "metadata": {},
   "outputs": [
    {
     "data": {
      "text/html": [
       "<div>\n",
       "<style scoped>\n",
       "    .dataframe tbody tr th:only-of-type {\n",
       "        vertical-align: middle;\n",
       "    }\n",
       "\n",
       "    .dataframe tbody tr th {\n",
       "        vertical-align: top;\n",
       "    }\n",
       "\n",
       "    .dataframe thead th {\n",
       "        text-align: right;\n",
       "    }\n",
       "</style>\n",
       "<table border=\"1\" class=\"dataframe\">\n",
       "  <thead>\n",
       "    <tr style=\"text-align: right;\">\n",
       "      <th></th>\n",
       "      <th>user_id</th>\n",
       "      <th>gender</th>\n",
       "      <th>zipcode</th>\n",
       "      <th>age_desc</th>\n",
       "      <th>occ_desc</th>\n",
       "    </tr>\n",
       "  </thead>\n",
       "  <tbody>\n",
       "    <tr>\n",
       "      <td>0</td>\n",
       "      <td>1</td>\n",
       "      <td>F</td>\n",
       "      <td>48067</td>\n",
       "      <td>Under 18</td>\n",
       "      <td>K-12 student</td>\n",
       "    </tr>\n",
       "    <tr>\n",
       "      <td>1</td>\n",
       "      <td>2</td>\n",
       "      <td>M</td>\n",
       "      <td>70072</td>\n",
       "      <td>56+</td>\n",
       "      <td>self-employed</td>\n",
       "    </tr>\n",
       "    <tr>\n",
       "      <td>2</td>\n",
       "      <td>3</td>\n",
       "      <td>M</td>\n",
       "      <td>55117</td>\n",
       "      <td>25-34</td>\n",
       "      <td>scientist</td>\n",
       "    </tr>\n",
       "    <tr>\n",
       "      <td>3</td>\n",
       "      <td>4</td>\n",
       "      <td>M</td>\n",
       "      <td>02460</td>\n",
       "      <td>45-49</td>\n",
       "      <td>executive/managerial</td>\n",
       "    </tr>\n",
       "    <tr>\n",
       "      <td>4</td>\n",
       "      <td>5</td>\n",
       "      <td>M</td>\n",
       "      <td>55455</td>\n",
       "      <td>25-34</td>\n",
       "      <td>writer</td>\n",
       "    </tr>\n",
       "  </tbody>\n",
       "</table>\n",
       "</div>"
      ],
      "text/plain": [
       "   user_id gender zipcode  age_desc              occ_desc\n",
       "0        1      F   48067  Under 18          K-12 student\n",
       "1        2      M   70072       56+         self-employed\n",
       "2        3      M   55117     25-34             scientist\n",
       "3        4      M   02460     45-49  executive/managerial\n",
       "4        5      M   55455     25-34                writer"
      ]
     },
     "execution_count": 4,
     "metadata": {},
     "output_type": "execute_result"
    }
   ],
   "source": [
    "users.head()"
   ]
  },
  {
   "cell_type": "code",
   "execution_count": 5,
   "metadata": {},
   "outputs": [
    {
     "name": "stdout",
     "output_type": "stream",
     "text": [
      "<class 'pandas.core.frame.DataFrame'>\n",
      "RangeIndex: 6040 entries, 0 to 6039\n",
      "Data columns (total 5 columns):\n",
      "user_id     6040 non-null int64\n",
      "gender      6040 non-null object\n",
      "zipcode     6040 non-null object\n",
      "age_desc    6040 non-null object\n",
      "occ_desc    6040 non-null object\n",
      "dtypes: int64(1), object(4)\n",
      "memory usage: 236.1+ KB\n"
     ]
    }
   ],
   "source": [
    "users.info()"
   ]
  },
  {
   "cell_type": "code",
   "execution_count": 6,
   "metadata": {},
   "outputs": [
    {
     "data": {
      "text/html": [
       "<div>\n",
       "<style scoped>\n",
       "    .dataframe tbody tr th:only-of-type {\n",
       "        vertical-align: middle;\n",
       "    }\n",
       "\n",
       "    .dataframe tbody tr th {\n",
       "        vertical-align: top;\n",
       "    }\n",
       "\n",
       "    .dataframe thead th {\n",
       "        text-align: right;\n",
       "    }\n",
       "</style>\n",
       "<table border=\"1\" class=\"dataframe\">\n",
       "  <thead>\n",
       "    <tr style=\"text-align: right;\">\n",
       "      <th></th>\n",
       "      <th>movie_id</th>\n",
       "      <th>title</th>\n",
       "      <th>genres</th>\n",
       "    </tr>\n",
       "  </thead>\n",
       "  <tbody>\n",
       "    <tr>\n",
       "      <td>0</td>\n",
       "      <td>1</td>\n",
       "      <td>Toy Story (1995)</td>\n",
       "      <td>Animation|Children's|Comedy</td>\n",
       "    </tr>\n",
       "    <tr>\n",
       "      <td>1</td>\n",
       "      <td>2</td>\n",
       "      <td>Jumanji (1995)</td>\n",
       "      <td>Adventure|Children's|Fantasy</td>\n",
       "    </tr>\n",
       "    <tr>\n",
       "      <td>2</td>\n",
       "      <td>3</td>\n",
       "      <td>Grumpier Old Men (1995)</td>\n",
       "      <td>Comedy|Romance</td>\n",
       "    </tr>\n",
       "    <tr>\n",
       "      <td>3</td>\n",
       "      <td>4</td>\n",
       "      <td>Waiting to Exhale (1995)</td>\n",
       "      <td>Comedy|Drama</td>\n",
       "    </tr>\n",
       "    <tr>\n",
       "      <td>4</td>\n",
       "      <td>5</td>\n",
       "      <td>Father of the Bride Part II (1995)</td>\n",
       "      <td>Comedy</td>\n",
       "    </tr>\n",
       "  </tbody>\n",
       "</table>\n",
       "</div>"
      ],
      "text/plain": [
       "   movie_id                               title                        genres\n",
       "0         1                    Toy Story (1995)   Animation|Children's|Comedy\n",
       "1         2                      Jumanji (1995)  Adventure|Children's|Fantasy\n",
       "2         3             Grumpier Old Men (1995)                Comedy|Romance\n",
       "3         4            Waiting to Exhale (1995)                  Comedy|Drama\n",
       "4         5  Father of the Bride Part II (1995)                        Comedy"
      ]
     },
     "execution_count": 6,
     "metadata": {},
     "output_type": "execute_result"
    }
   ],
   "source": [
    "movies.head()"
   ]
  },
  {
   "cell_type": "code",
   "execution_count": 7,
   "metadata": {},
   "outputs": [
    {
     "name": "stdout",
     "output_type": "stream",
     "text": [
      "<class 'pandas.core.frame.DataFrame'>\n",
      "RangeIndex: 3883 entries, 0 to 3882\n",
      "Data columns (total 3 columns):\n",
      "movie_id    3883 non-null int64\n",
      "title       3883 non-null object\n",
      "genres      3883 non-null object\n",
      "dtypes: int64(1), object(2)\n",
      "memory usage: 91.1+ KB\n"
     ]
    }
   ],
   "source": [
    "movies.info()"
   ]
  },
  {
   "cell_type": "code",
   "execution_count": 8,
   "metadata": {},
   "outputs": [
    {
     "data": {
      "image/png": "[encoded data removed]",
      "text/plain": [
       "<Figure size 1152x576 with 1 Axes>"
      ]
     },
     "metadata": {
      "needs_background": "light"
     },
     "output_type": "display_data"
    }
   ],
   "source": [
    "%matplotlib inline\n",
    "import wordcloud\n",
    "from wordcloud import WordCloud, STOPWORDS\n",
    "\n",
    "movies['title'] = movies['title'].fillna(\"\").astype('str')\n",
    "title_corpus = ' '.join(movies['title'])\n",
    "title_wordcloud = WordCloud(stopwords=STOPWORDS, background_color='black', height=2000, width=4000).generate(title_corpus)\n",
    "\n",
    "plt.figure(figsize=(16,8))\n",
    "plt.imshow(title_wordcloud)\n",
    "plt.axis('off')\n",
    "plt.show()"
   ]
  },
  {
   "cell_type": "code",
   "execution_count": 9,
   "metadata": {},
   "outputs": [
    {
     "data": {
      "text/plain": [
       "count    1.000209e+06\n",
       "mean     3.581564e+00\n",
       "std      1.117102e+00\n",
       "min      1.000000e+00\n",
       "25%      3.000000e+00\n",
       "50%      4.000000e+00\n",
       "75%      4.000000e+00\n",
       "max      5.000000e+00\n",
       "Name: rating, dtype: float64"
      ]
     },
     "execution_count": 9,
     "metadata": {},
     "output_type": "execute_result"
    }
   ],
   "source": [
    "ratings['rating'].describe()"
   ]
  },
  {
   "cell_type": "code",
   "execution_count": 10,
   "metadata": {},
   "outputs": [
    {
     "data": {
      "text/plain": [
       "<matplotlib.axes._subplots.AxesSubplot at 0x11bd29c10>"
      ]
     },
     "execution_count": 10,
     "metadata": {},
     "output_type": "execute_result"
    },
    {
     "data": {
      "image/png": "[encoded data removed]",
      "text/plain": [
       "<Figure size 432x288 with 1 Axes>"
      ]
     },
     "metadata": {
      "needs_background": "light"
     },
     "output_type": "display_data"
    }
   ],
   "source": [
    "import seaborn as sns\n",
    "sns.set_style('whitegrid')\n",
    "sns.set(font_scale=1.8)\n",
    "%matplotlib inline\n",
    "\n",
    "\n",
    "sns.distplot(ratings['rating'].fillna(ratings['rating'].median()))"
   ]
  },
  {
   "cell_type": "code",
   "execution_count": 11,
   "metadata": {},
   "outputs": [
    {
     "data": {
      "text/html": [
       "<div>\n",
       "<style scoped>\n",
       "    .dataframe tbody tr th:only-of-type {\n",
       "        vertical-align: middle;\n",
       "    }\n",
       "\n",
       "    .dataframe tbody tr th {\n",
       "        vertical-align: top;\n",
       "    }\n",
       "\n",
       "    .dataframe thead th {\n",
       "        text-align: right;\n",
       "    }\n",
       "</style>\n",
       "<table border=\"1\" class=\"dataframe\">\n",
       "  <thead>\n",
       "    <tr style=\"text-align: right;\">\n",
       "      <th></th>\n",
       "      <th>title</th>\n",
       "      <th>genres</th>\n",
       "      <th>rating</th>\n",
       "    </tr>\n",
       "  </thead>\n",
       "  <tbody>\n",
       "    <tr>\n",
       "      <td>0</td>\n",
       "      <td>Toy Story (1995)</td>\n",
       "      <td>Animation|Children's|Comedy</td>\n",
       "      <td>5</td>\n",
       "    </tr>\n",
       "    <tr>\n",
       "      <td>489283</td>\n",
       "      <td>American Beauty (1999)</td>\n",
       "      <td>Comedy|Drama</td>\n",
       "      <td>5</td>\n",
       "    </tr>\n",
       "    <tr>\n",
       "      <td>489259</td>\n",
       "      <td>Election (1999)</td>\n",
       "      <td>Comedy</td>\n",
       "      <td>5</td>\n",
       "    </tr>\n",
       "    <tr>\n",
       "      <td>489257</td>\n",
       "      <td>Matrix, The (1999)</td>\n",
       "      <td>Action|Sci-Fi|Thriller</td>\n",
       "      <td>5</td>\n",
       "    </tr>\n",
       "    <tr>\n",
       "      <td>489256</td>\n",
       "      <td>Dead Ringers (1988)</td>\n",
       "      <td>Drama|Thriller</td>\n",
       "      <td>5</td>\n",
       "    </tr>\n",
       "    <tr>\n",
       "      <td>489237</td>\n",
       "      <td>Rushmore (1998)</td>\n",
       "      <td>Comedy</td>\n",
       "      <td>5</td>\n",
       "    </tr>\n",
       "    <tr>\n",
       "      <td>489236</td>\n",
       "      <td>Simple Plan, A (1998)</td>\n",
       "      <td>Crime|Thriller</td>\n",
       "      <td>5</td>\n",
       "    </tr>\n",
       "    <tr>\n",
       "      <td>489226</td>\n",
       "      <td>Hands on a Hard Body (1996)</td>\n",
       "      <td>Documentary</td>\n",
       "      <td>5</td>\n",
       "    </tr>\n",
       "    <tr>\n",
       "      <td>489224</td>\n",
       "      <td>Pleasantville (1998)</td>\n",
       "      <td>Comedy</td>\n",
       "      <td>5</td>\n",
       "    </tr>\n",
       "    <tr>\n",
       "      <td>489212</td>\n",
       "      <td>Say Anything... (1989)</td>\n",
       "      <td>Comedy|Drama|Romance</td>\n",
       "      <td>5</td>\n",
       "    </tr>\n",
       "    <tr>\n",
       "      <td>489207</td>\n",
       "      <td>Beetlejuice (1988)</td>\n",
       "      <td>Comedy|Fantasy</td>\n",
       "      <td>5</td>\n",
       "    </tr>\n",
       "    <tr>\n",
       "      <td>489190</td>\n",
       "      <td>Roger &amp; Me (1989)</td>\n",
       "      <td>Comedy|Documentary</td>\n",
       "      <td>5</td>\n",
       "    </tr>\n",
       "    <tr>\n",
       "      <td>489172</td>\n",
       "      <td>Buffalo 66 (1998)</td>\n",
       "      <td>Action|Comedy|Drama</td>\n",
       "      <td>5</td>\n",
       "    </tr>\n",
       "    <tr>\n",
       "      <td>489171</td>\n",
       "      <td>Out of Sight (1998)</td>\n",
       "      <td>Action|Crime|Romance</td>\n",
       "      <td>5</td>\n",
       "    </tr>\n",
       "    <tr>\n",
       "      <td>489170</td>\n",
       "      <td>I Went Down (1997)</td>\n",
       "      <td>Action|Comedy|Crime</td>\n",
       "      <td>5</td>\n",
       "    </tr>\n",
       "    <tr>\n",
       "      <td>489168</td>\n",
       "      <td>Opposite of Sex, The (1998)</td>\n",
       "      <td>Comedy|Drama</td>\n",
       "      <td>5</td>\n",
       "    </tr>\n",
       "    <tr>\n",
       "      <td>489157</td>\n",
       "      <td>Good Will Hunting (1997)</td>\n",
       "      <td>Drama</td>\n",
       "      <td>5</td>\n",
       "    </tr>\n",
       "    <tr>\n",
       "      <td>489152</td>\n",
       "      <td>Fast, Cheap &amp; Out of Control (1997)</td>\n",
       "      <td>Documentary</td>\n",
       "      <td>5</td>\n",
       "    </tr>\n",
       "    <tr>\n",
       "      <td>489149</td>\n",
       "      <td>L.A. Confidential (1997)</td>\n",
       "      <td>Crime|Film-Noir|Mystery|Thriller</td>\n",
       "      <td>5</td>\n",
       "    </tr>\n",
       "    <tr>\n",
       "      <td>489145</td>\n",
       "      <td>Contact (1997)</td>\n",
       "      <td>Drama|Sci-Fi</td>\n",
       "      <td>5</td>\n",
       "    </tr>\n",
       "  </tbody>\n",
       "</table>\n",
       "</div>"
      ],
      "text/plain": [
       "                                      title                            genres  \\\n",
       "0                          Toy Story (1995)       Animation|Children's|Comedy   \n",
       "489283               American Beauty (1999)                      Comedy|Drama   \n",
       "489259                      Election (1999)                            Comedy   \n",
       "489257                   Matrix, The (1999)            Action|Sci-Fi|Thriller   \n",
       "489256                  Dead Ringers (1988)                    Drama|Thriller   \n",
       "489237                      Rushmore (1998)                            Comedy   \n",
       "489236                Simple Plan, A (1998)                    Crime|Thriller   \n",
       "489226          Hands on a Hard Body (1996)                       Documentary   \n",
       "489224                 Pleasantville (1998)                            Comedy   \n",
       "489212               Say Anything... (1989)              Comedy|Drama|Romance   \n",
       "489207                   Beetlejuice (1988)                    Comedy|Fantasy   \n",
       "489190                    Roger & Me (1989)                Comedy|Documentary   \n",
       "489172                    Buffalo 66 (1998)               Action|Comedy|Drama   \n",
       "489171                  Out of Sight (1998)              Action|Crime|Romance   \n",
       "489170                   I Went Down (1997)               Action|Comedy|Crime   \n",
       "489168          Opposite of Sex, The (1998)                      Comedy|Drama   \n",
       "489157             Good Will Hunting (1997)                             Drama   \n",
       "489152  Fast, Cheap & Out of Control (1997)                       Documentary   \n",
       "489149             L.A. Confidential (1997)  Crime|Film-Noir|Mystery|Thriller   \n",
       "489145                       Contact (1997)                      Drama|Sci-Fi   \n",
       "\n",
       "        rating  \n",
       "0            5  \n",
       "489283       5  \n",
       "489259       5  \n",
       "489257       5  \n",
       "489256       5  \n",
       "489237       5  \n",
       "489236       5  \n",
       "489226       5  \n",
       "489224       5  \n",
       "489212       5  \n",
       "489207       5  \n",
       "489190       5  \n",
       "489172       5  \n",
       "489171       5  \n",
       "489170       5  \n",
       "489168       5  \n",
       "489157       5  \n",
       "489152       5  \n",
       "489149       5  \n",
       "489145       5  "
      ]
     },
     "execution_count": 11,
     "metadata": {},
     "output_type": "execute_result"
    }
   ],
   "source": [
    "dataset = pd.merge(pd.merge(movies, ratings),users)\n",
    "\n",
    "dataset[['title','genres','rating']].sort_values('rating', ascending=False).head(20)"
   ]
  },
  {
   "cell_type": "code",
   "execution_count": 12,
   "metadata": {},
   "outputs": [
    {
     "data": {
      "text/plain": [
       "[['Drama', 1603],\n",
       " ['Comedy', 1200],\n",
       " ['Action', 503],\n",
       " ['Thriller', 492],\n",
       " ['Romance', 471]]"
      ]
     },
     "execution_count": 12,
     "metadata": {},
     "output_type": "execute_result"
    }
   ],
   "source": [
    "\n",
    "genre_labels = set()\n",
    "for s in movies['genres'].str.split('|').values:\n",
    "    genre_labels = genre_labels.union(set(s))\n",
    "\n",
    "\n",
    "def count_word(dataset, ref_col, census):\n",
    "    keyword_count = dict()\n",
    "    for s in census: \n",
    "        keyword_count[s] = 0\n",
    "    for census_keywords in dataset[ref_col].str.split('|'):        \n",
    "        if type(census_keywords) == float and pd.isnull(census_keywords): \n",
    "            continue        \n",
    "        for s in [s for s in census_keywords if s in census]: \n",
    "            if pd.notnull(s): \n",
    "                keyword_count[s] += 1\n",
    "\n",
    "    keyword_occurences = []\n",
    "    for k,v in keyword_count.items():\n",
    "        keyword_occurences.append([k,v])\n",
    "    keyword_occurences.sort(key = lambda x:x[1], reverse = True)\n",
    "    return keyword_occurences, keyword_count\n",
    "\n",
    "\n",
    "keyword_occurences, dum = count_word(movies, 'genres', genre_labels)\n",
    "keyword_occurences[:5]"
   ]
  },
  {
   "cell_type": "code",
   "execution_count": 13,
   "metadata": {},
   "outputs": [
    {
     "data": {
      "image/png": "[encoded data removed]",
      "text/plain": [
       "<Figure size 1152x576 with 1 Axes>"
      ]
     },
     "metadata": {
      "needs_background": "light"
     },
     "output_type": "display_data"
    }
   ],
   "source": [
    "\n",
    "genres = dict()\n",
    "trunc_occurences = keyword_occurences[0:18]\n",
    "for s in trunc_occurences:\n",
    "    genres[s[0]] = s[1]\n",
    "\n",
    "\n",
    "genre_wordcloud = WordCloud(width=1000,height=400, background_color='white')\n",
    "genre_wordcloud.generate_from_frequencies(genres)\n",
    "\n",
    "\n",
    "f, ax = plt.subplots(figsize=(16, 8))\n",
    "plt.imshow(genre_wordcloud, interpolation=\"bilinear\")\n",
    "plt.axis('off')\n",
    "plt.show()"
   ]
  },
  {
   "cell_type": "code",
   "execution_count": 14,
   "metadata": {},
   "outputs": [],
   "source": [
    "\n",
    "movies['genres'] = movies['genres'].str.split('|')\n",
    "\n",
    "movies['genres'] = movies['genres'].fillna(\"\").astype('str')"
   ]
  },
  {
   "cell_type": "code",
   "execution_count": 15,
   "metadata": {},
   "outputs": [
    {
     "data": {
      "text/plain": [
       "(3883, 127)"
      ]
     },
     "execution_count": 15,
     "metadata": {},
     "output_type": "execute_result"
    }
   ],
   "source": [
    "from sklearn.feature_extraction.text import TfidfVectorizer\n",
    "tf = TfidfVectorizer(analyzer='word',ngram_range=(1, 2),min_df=0, stop_words='english')\n",
    "tfidf_matrix = tf.fit_transform(movies['genres'])\n",
    "tfidf_matrix.shape"
   ]
  },
  {
   "cell_type": "code",
   "execution_count": 16,
   "metadata": {},
   "outputs": [
    {
     "data": {
      "text/plain": [
       "array([[1.        , 0.14193614, 0.09010857, 0.1056164 ],\n",
       "       [0.14193614, 1.        , 0.        , 0.        ],\n",
       "       [0.09010857, 0.        , 1.        , 0.1719888 ],\n",
       "       [0.1056164 , 0.        , 0.1719888 , 1.        ]])"
      ]
     },
     "execution_count": 16,
     "metadata": {},
     "output_type": "execute_result"
    }
   ],
   "source": [
    "from sklearn.metrics.pairwise import linear_kernel\n",
    "cosine_sim = linear_kernel(tfidf_matrix, tfidf_matrix)\n",
    "cosine_sim[:4, :4]"
   ]
  },
  {
   "cell_type": "code",
   "execution_count": 17,
   "metadata": {},
   "outputs": [],
   "source": [
    "\n",
    "titles = movies['title']\n",
    "indices = pd.Series(movies.index, index=movies['title'])\n",
    "\n",
    "\n",
    "def genre_recommendations(title):\n",
    "    idx = indices[title]\n",
    "    sim_scores = list(enumerate(cosine_sim[idx]))\n",
    "    sim_scores = sorted(sim_scores, key=lambda x: x[1], reverse=True)\n",
    "    sim_scores = sim_scores[1:21]\n",
    "    movie_indices = [i[0] for i in sim_scores]\n",
    "    return titles.iloc[movie_indices]"
   ]
  },
  {
   "cell_type": "code",
   "execution_count": 18,
   "metadata": {},
   "outputs": [
    {
     "data": {
      "text/plain": [
       "25                                        Othello (1995)\n",
       "26                                   Now and Then (1995)\n",
       "29     Shanghai Triad (Yao a yao yao dao waipo qiao) ...\n",
       "30                                Dangerous Minds (1995)\n",
       "35                               Dead Man Walking (1995)\n",
       "39                       Cry, the Beloved Country (1995)\n",
       "42                                    Restoration (1995)\n",
       "52                                       Lamerica (1994)\n",
       "54                                        Georgia (1995)\n",
       "56                          Home for the Holidays (1995)\n",
       "61                             Mr. Holland's Opus (1995)\n",
       "66                                       Two Bits (1995)\n",
       "77                            Crossing Guard, The (1995)\n",
       "79          White Balloon, The (Badkonake Sefid ) (1995)\n",
       "81                       Antonia's Line (Antonia) (1995)\n",
       "82       Once Upon a Time... When We Were Colored (1995)\n",
       "89                    Journey of August King, The (1995)\n",
       "92                                Beautiful Girls (1996)\n",
       "95                               Hate (Haine, La) (1995)\n",
       "112                             Margaret's Museum (1995)\n",
       "Name: title, dtype: object"
      ]
     },
     "execution_count": 18,
     "metadata": {},
     "output_type": "execute_result"
    }
   ],
   "source": [
    "genre_recommendations('Good Will Hunting (1997)').head(20)"
   ]
  },
  {
   "cell_type": "code",
   "execution_count": 19,
   "metadata": {},
   "outputs": [
    {
     "data": {
      "text/plain": [
       "1050               Aladdin and the King of Thieves (1996)\n",
       "2072                             American Tail, An (1986)\n",
       "2073           American Tail: Fievel Goes West, An (1991)\n",
       "2285                            Rugrats Movie, The (1998)\n",
       "2286                                 Bug's Life, A (1998)\n",
       "3045                                   Toy Story 2 (1999)\n",
       "3542                                Saludos Amigos (1943)\n",
       "3682                                   Chicken Run (2000)\n",
       "3685       Adventures of Rocky and Bullwinkle, The (2000)\n",
       "236                                 Goofy Movie, A (1995)\n",
       "12                                           Balto (1995)\n",
       "241                               Gumby: The Movie (1995)\n",
       "310                             Swan Princess, The (1994)\n",
       "592                                      Pinocchio (1940)\n",
       "612                                Aristocats, The (1970)\n",
       "700                               Oliver & Company (1988)\n",
       "876     Land Before Time III: The Time of the Great Gi...\n",
       "1010          Winnie the Pooh and the Blustery Day (1968)\n",
       "1012                       Sword in the Stone, The (1963)\n",
       "1020                        Fox and the Hound, The (1981)\n",
       "Name: title, dtype: object"
      ]
     },
     "execution_count": 19,
     "metadata": {},
     "output_type": "execute_result"
    }
   ],
   "source": [
    "genre_recommendations('Toy Story (1995)').head(20)"
   ]
  },
  {
   "cell_type": "code",
   "execution_count": 20,
   "metadata": {},
   "outputs": [
    {
     "data": {
      "text/plain": [
       "283                Nemesis 2: Nebula (1995)\n",
       "585       Terminator 2: Judgment Day (1991)\n",
       "683                             Solo (1996)\n",
       "738                     Arrival, The (1996)\n",
       "1024              Lawnmower Man, The (1992)\n",
       "1220                 Terminator, The (1984)\n",
       "1533                        Face/Off (1997)\n",
       "1763                   Lost in Space (1998)\n",
       "2502                     Matrix, The (1999)\n",
       "2531                        eXistenZ (1999)\n",
       "2653                   Deep Blue Sea (1999)\n",
       "3458                        Predator (1987)\n",
       "3628                      Predator 2 (1990)\n",
       "375                          Timecop (1994)\n",
       "401     Highlander III: The Sorcerer (1994)\n",
       "438                   Demolition Man (1993)\n",
       "500                        No Escape (1994)\n",
       "728                        Barb Wire (1996)\n",
       "1362        Adrenalin: Fear the Rush (1996)\n",
       "1491              Fifth Element, The (1997)\n",
       "Name: title, dtype: object"
      ]
     },
     "execution_count": 20,
     "metadata": {},
     "output_type": "execute_result"
    }
   ],
   "source": [
    "\n",
    "genre_recommendations('Matrix, The (1999)').head(20)"
   ]
  },
  {
   "cell_type": "code",
   "execution_count": 21,
   "metadata": {},
   "outputs": [],
   "source": [
    "\n",
    "ratings['user_id'] = ratings['user_id'].fillna(0)\n",
    "ratings['movie_id'] = ratings['movie_id'].fillna(0)\n",
    "\n",
    "ratings['rating'] = ratings['rating'].fillna(ratings['rating'].mean())"
   ]
  },
  {
   "cell_type": "code",
   "execution_count": 22,
   "metadata": {},
   "outputs": [
    {
     "name": "stdout",
     "output_type": "stream",
     "text": [
      "<class 'pandas.core.frame.DataFrame'>\n",
      "Int64Index: 20004 entries, 920052 to 109413\n",
      "Data columns (total 3 columns):\n",
      "user_id     20004 non-null int64\n",
      "movie_id    20004 non-null int64\n",
      "rating      20004 non-null int64\n",
      "dtypes: int64(3)\n",
      "memory usage: 625.1 KB\n",
      "None\n"
     ]
    }
   ],
   "source": [
    "\n",
    "small_data = ratings.sample(frac=0.02)\n",
    "\n",
    "print(small_data.info())"
   ]
  },
  {
   "cell_type": "code",
   "execution_count": 23,
   "metadata": {},
   "outputs": [],
   "source": [
    "from sklearn.model_selection import train_test_split\n",
    "from sklearn.feature_extraction.text import CountVectorizer"
   ]
  },
  {
   "cell_type": "code",
   "execution_count": 24,
   "metadata": {},
   "outputs": [],
   "source": [
    "train_data = small_data.sample(frac=0.8)\n",
    "test_data = small_data.sample(frac = 0.2)"
   ]
  },
  {
   "cell_type": "code",
   "execution_count": 25,
   "metadata": {},
   "outputs": [
    {
     "name": "stdout",
     "output_type": "stream",
     "text": [
      "(16003, 3)\n",
      "(4001, 3)\n"
     ]
    },
    {
     "name": "stderr",
     "output_type": "stream",
     "text": [
      "/Users/rowem5/opt/anaconda3/lib/python3.7/site-packages/ipykernel_launcher.py:1: FutureWarning: Method .as_matrix will be removed in a future version. Use .values instead.\n",
      "  \"\"\"Entry point for launching an IPython kernel.\n",
      "/Users/rowem5/opt/anaconda3/lib/python3.7/site-packages/ipykernel_launcher.py:2: FutureWarning: Method .as_matrix will be removed in a future version. Use .values instead.\n",
      "  \n"
     ]
    }
   ],
   "source": [
    "train_data_matrix = train_data.as_matrix(columns = ['user_id', 'movie_id', 'rating'])\n",
    "test_data_matrix = test_data.as_matrix(columns = ['user_id', 'movie_id', 'rating'])\n",
    "\n",
    "\n",
    "print(train_data_matrix.shape)\n",
    "print(test_data_matrix.shape)"
   ]
  },
  {
   "cell_type": "code",
   "execution_count": 26,
   "metadata": {},
   "outputs": [
    {
     "name": "stdout",
     "output_type": "stream",
     "text": [
      "[[ 1.          0.61892846  0.37079069  0.85589359]\n",
      " [ 0.61892846  1.          0.95895081  0.12354125]\n",
      " [ 0.37079069  0.95895081  1.         -0.16293017]\n",
      " [ 0.85589359  0.12354125 -0.16293017  1.        ]]\n"
     ]
    }
   ],
   "source": [
    "from sklearn.metrics.pairwise import pairwise_distances\n",
    "\n",
    "\n",
    "user_correlation = 1 - pairwise_distances(train_data, metric='correlation')\n",
    "user_correlation[np.isnan(user_correlation)] = 0\n",
    "print(user_correlation[:4, :4])"
   ]
  },
  {
   "cell_type": "code",
   "execution_count": 27,
   "metadata": {},
   "outputs": [
    {
     "name": "stdout",
     "output_type": "stream",
     "text": [
      "[[ 1.         -0.00680638  0.00558297]\n",
      " [-0.00680638  1.         -0.06178851]\n",
      " [ 0.00558297 -0.06178851  1.        ]]\n"
     ]
    }
   ],
   "source": [
    "\n",
    "item_correlation = 1 - pairwise_distances(train_data_matrix.T, metric='correlation')\n",
    "item_correlation[np.isnan(item_correlation)] = 0\n",
    "print(item_correlation[:4, :4])"
   ]
  },
  {
   "cell_type": "code",
   "execution_count": 28,
   "metadata": {},
   "outputs": [],
   "source": [
    "\n",
    "def predict(ratings, similarity, type='user'):\n",
    "    if type == 'user':\n",
    "        mean_user_rating = ratings.mean(axis=1)\n",
    "        ratings_diff = (ratings - mean_user_rating[:, np.newaxis])\n",
    "        pred = mean_user_rating[:, np.newaxis] + similarity.dot(ratings_diff) / np.array([np.abs(similarity).sum(axis=1)]).T\n",
    "    elif type == 'item':\n",
    "        pred = ratings.dot(similarity) / np.array([np.abs(similarity).sum(axis=1)])\n",
    "    return pred"
   ]
  },
  {
   "cell_type": "code",
   "execution_count": 29,
   "metadata": {},
   "outputs": [],
   "source": [
    "from sklearn.metrics import mean_squared_error\n",
    "from math import sqrt\n",
    "\n",
    "def rmse(pred, actual):\n",
    "    # Ignore nonzero terms.\n",
    "    pred = pred[actual.nonzero()].flatten()\n",
    "    actual = actual[actual.nonzero()].flatten()\n",
    "    return sqrt(mean_squared_error(pred, actual))"
   ]
  },
  {
   "cell_type": "code",
   "execution_count": 30,
   "metadata": {},
   "outputs": [
    {
     "name": "stdout",
     "output_type": "stream",
     "text": [
      "User-based CF RMSE: 1412.651585506442\n",
      "Item-based CF RMSE: 1640.4326844208122\n"
     ]
    }
   ],
   "source": [
    "\n",
    "user_prediction = predict(train_data_matrix, user_correlation, type='user')\n",
    "item_prediction = predict(train_data_matrix, item_correlation, type='item')\n",
    "\n",
    "print('User-based CF RMSE: ' + str(rmse(user_prediction, test_data_matrix)))\n",
    "print('Item-based CF RMSE: ' + str(rmse(item_prediction, test_data_matrix)))"
   ]
  },
  {
   "cell_type": "code",
   "execution_count": 31,
   "metadata": {},
   "outputs": [
    {
     "name": "stdout",
     "output_type": "stream",
     "text": [
      "User-based CF RMSE: 697.5897859675268\n",
      "Item-based CF RMSE: 115.1221685035481\n"
     ]
    }
   ],
   "source": [
    "\n",
    "print('User-based CF RMSE: ' + str(rmse(user_prediction, train_data_matrix)))\n",
    "print('Item-based CF RMSE: ' + str(rmse(item_prediction, train_data_matrix)))"
   ]
  },
  {
   "cell_type": "code",
   "execution_count": 32,
   "metadata": {},
   "outputs": [],
   "source": [
    "neural = pd.merge(ratings, users, how = 'inner', on = 'user_id')"
   ]
  },
  {
   "cell_type": "code",
   "execution_count": 33,
   "metadata": {},
   "outputs": [],
   "source": [
    "neural = pd.merge(neural, movies, how = 'inner', on = 'movie_id')"
   ]
  },
  {
   "cell_type": "code",
   "execution_count": 34,
   "metadata": {},
   "outputs": [],
   "source": [
    "neural = neural.drop(columns = 'title')"
   ]
  },
  {
   "cell_type": "code",
   "execution_count": 35,
   "metadata": {},
   "outputs": [
    {
     "data": {
      "text/html": [
       "<div>\n",
       "<style scoped>\n",
       "    .dataframe tbody tr th:only-of-type {\n",
       "        vertical-align: middle;\n",
       "    }\n",
       "\n",
       "    .dataframe tbody tr th {\n",
       "        vertical-align: top;\n",
       "    }\n",
       "\n",
       "    .dataframe thead th {\n",
       "        text-align: right;\n",
       "    }\n",
       "</style>\n",
       "<table border=\"1\" class=\"dataframe\">\n",
       "  <thead>\n",
       "    <tr style=\"text-align: right;\">\n",
       "      <th></th>\n",
       "      <th>user_id</th>\n",
       "      <th>movie_id</th>\n",
       "      <th>rating</th>\n",
       "      <th>gender</th>\n",
       "      <th>zipcode</th>\n",
       "      <th>age_desc</th>\n",
       "      <th>occ_desc</th>\n",
       "      <th>genres</th>\n",
       "    </tr>\n",
       "  </thead>\n",
       "  <tbody>\n",
       "    <tr>\n",
       "      <td>0</td>\n",
       "      <td>1</td>\n",
       "      <td>1193</td>\n",
       "      <td>5</td>\n",
       "      <td>F</td>\n",
       "      <td>48067</td>\n",
       "      <td>Under 18</td>\n",
       "      <td>K-12 student</td>\n",
       "      <td>['Drama']</td>\n",
       "    </tr>\n",
       "    <tr>\n",
       "      <td>1</td>\n",
       "      <td>2</td>\n",
       "      <td>1193</td>\n",
       "      <td>5</td>\n",
       "      <td>M</td>\n",
       "      <td>70072</td>\n",
       "      <td>56+</td>\n",
       "      <td>self-employed</td>\n",
       "      <td>['Drama']</td>\n",
       "    </tr>\n",
       "    <tr>\n",
       "      <td>2</td>\n",
       "      <td>12</td>\n",
       "      <td>1193</td>\n",
       "      <td>4</td>\n",
       "      <td>M</td>\n",
       "      <td>32793</td>\n",
       "      <td>25-34</td>\n",
       "      <td>programmer</td>\n",
       "      <td>['Drama']</td>\n",
       "    </tr>\n",
       "    <tr>\n",
       "      <td>3</td>\n",
       "      <td>15</td>\n",
       "      <td>1193</td>\n",
       "      <td>4</td>\n",
       "      <td>M</td>\n",
       "      <td>22903</td>\n",
       "      <td>25-34</td>\n",
       "      <td>executive/managerial</td>\n",
       "      <td>['Drama']</td>\n",
       "    </tr>\n",
       "    <tr>\n",
       "      <td>4</td>\n",
       "      <td>17</td>\n",
       "      <td>1193</td>\n",
       "      <td>5</td>\n",
       "      <td>M</td>\n",
       "      <td>95350</td>\n",
       "      <td>50-55</td>\n",
       "      <td>academic/educator</td>\n",
       "      <td>['Drama']</td>\n",
       "    </tr>\n",
       "    <tr>\n",
       "      <td>...</td>\n",
       "      <td>...</td>\n",
       "      <td>...</td>\n",
       "      <td>...</td>\n",
       "      <td>...</td>\n",
       "      <td>...</td>\n",
       "      <td>...</td>\n",
       "      <td>...</td>\n",
       "      <td>...</td>\n",
       "    </tr>\n",
       "    <tr>\n",
       "      <td>1000204</td>\n",
       "      <td>5949</td>\n",
       "      <td>2198</td>\n",
       "      <td>5</td>\n",
       "      <td>M</td>\n",
       "      <td>47901</td>\n",
       "      <td>18-24</td>\n",
       "      <td>technician/engineer</td>\n",
       "      <td>['Documentary']</td>\n",
       "    </tr>\n",
       "    <tr>\n",
       "      <td>1000205</td>\n",
       "      <td>5675</td>\n",
       "      <td>2703</td>\n",
       "      <td>3</td>\n",
       "      <td>M</td>\n",
       "      <td>30030</td>\n",
       "      <td>35-44</td>\n",
       "      <td>sales/marketing</td>\n",
       "      <td>['Drama']</td>\n",
       "    </tr>\n",
       "    <tr>\n",
       "      <td>1000206</td>\n",
       "      <td>5780</td>\n",
       "      <td>2845</td>\n",
       "      <td>1</td>\n",
       "      <td>M</td>\n",
       "      <td>92886</td>\n",
       "      <td>18-24</td>\n",
       "      <td>technician/engineer</td>\n",
       "      <td>['Drama']</td>\n",
       "    </tr>\n",
       "    <tr>\n",
       "      <td>1000207</td>\n",
       "      <td>5851</td>\n",
       "      <td>3607</td>\n",
       "      <td>5</td>\n",
       "      <td>F</td>\n",
       "      <td>55410</td>\n",
       "      <td>18-24</td>\n",
       "      <td>writer</td>\n",
       "      <td>['Comedy', 'Drama', 'Western']</td>\n",
       "    </tr>\n",
       "    <tr>\n",
       "      <td>1000208</td>\n",
       "      <td>5938</td>\n",
       "      <td>2909</td>\n",
       "      <td>4</td>\n",
       "      <td>M</td>\n",
       "      <td>35401</td>\n",
       "      <td>25-34</td>\n",
       "      <td>academic/educator</td>\n",
       "      <td>['Documentary']</td>\n",
       "    </tr>\n",
       "  </tbody>\n",
       "</table>\n",
       "<p>1000209 rows × 8 columns</p>\n",
       "</div>"
      ],
      "text/plain": [
       "         user_id  movie_id  rating gender zipcode  age_desc  \\\n",
       "0              1      1193       5      F   48067  Under 18   \n",
       "1              2      1193       5      M   70072       56+   \n",
       "2             12      1193       4      M   32793     25-34   \n",
       "3             15      1193       4      M   22903     25-34   \n",
       "4             17      1193       5      M   95350     50-55   \n",
       "...          ...       ...     ...    ...     ...       ...   \n",
       "1000204     5949      2198       5      M   47901     18-24   \n",
       "1000205     5675      2703       3      M   30030     35-44   \n",
       "1000206     5780      2845       1      M   92886     18-24   \n",
       "1000207     5851      3607       5      F   55410     18-24   \n",
       "1000208     5938      2909       4      M   35401     25-34   \n",
       "\n",
       "                     occ_desc                          genres  \n",
       "0                K-12 student                       ['Drama']  \n",
       "1               self-employed                       ['Drama']  \n",
       "2                  programmer                       ['Drama']  \n",
       "3        executive/managerial                       ['Drama']  \n",
       "4           academic/educator                       ['Drama']  \n",
       "...                       ...                             ...  \n",
       "1000204   technician/engineer                 ['Documentary']  \n",
       "1000205       sales/marketing                       ['Drama']  \n",
       "1000206   technician/engineer                       ['Drama']  \n",
       "1000207                writer  ['Comedy', 'Drama', 'Western']  \n",
       "1000208     academic/educator                 ['Documentary']  \n",
       "\n",
       "[1000209 rows x 8 columns]"
      ]
     },
     "execution_count": 35,
     "metadata": {},
     "output_type": "execute_result"
    }
   ],
   "source": [
    "neural\n"
   ]
  },
  {
   "cell_type": "code",
   "execution_count": 36,
   "metadata": {},
   "outputs": [],
   "source": [
    "import tensorflow.keras"
   ]
  },
  {
   "cell_type": "code",
   "execution_count": null,
   "metadata": {},
   "outputs": [],
   "source": []
  },
  {
   "cell_type": "code",
   "execution_count": 37,
   "metadata": {},
   "outputs": [],
   "source": [
    "neural['gender'].replace('M', 1, inplace = True)\n",
    "neural['gender'].replace('F', 0, inplace = True)"
   ]
  },
  {
   "cell_type": "code",
   "execution_count": 38,
   "metadata": {},
   "outputs": [
    {
     "data": {
      "text/html": [
       "<div>\n",
       "<style scoped>\n",
       "    .dataframe tbody tr th:only-of-type {\n",
       "        vertical-align: middle;\n",
       "    }\n",
       "\n",
       "    .dataframe tbody tr th {\n",
       "        vertical-align: top;\n",
       "    }\n",
       "\n",
       "    .dataframe thead th {\n",
       "        text-align: right;\n",
       "    }\n",
       "</style>\n",
       "<table border=\"1\" class=\"dataframe\">\n",
       "  <thead>\n",
       "    <tr style=\"text-align: right;\">\n",
       "      <th></th>\n",
       "      <th>user_id</th>\n",
       "      <th>movie_id</th>\n",
       "      <th>rating</th>\n",
       "      <th>gender</th>\n",
       "      <th>zipcode</th>\n",
       "      <th>age_desc</th>\n",
       "      <th>occ_desc</th>\n",
       "      <th>genres</th>\n",
       "    </tr>\n",
       "  </thead>\n",
       "  <tbody>\n",
       "    <tr>\n",
       "      <td>0</td>\n",
       "      <td>1</td>\n",
       "      <td>1193</td>\n",
       "      <td>5</td>\n",
       "      <td>0</td>\n",
       "      <td>48067</td>\n",
       "      <td>Under 18</td>\n",
       "      <td>K-12 student</td>\n",
       "      <td>['Drama']</td>\n",
       "    </tr>\n",
       "    <tr>\n",
       "      <td>1</td>\n",
       "      <td>2</td>\n",
       "      <td>1193</td>\n",
       "      <td>5</td>\n",
       "      <td>1</td>\n",
       "      <td>70072</td>\n",
       "      <td>56+</td>\n",
       "      <td>self-employed</td>\n",
       "      <td>['Drama']</td>\n",
       "    </tr>\n",
       "    <tr>\n",
       "      <td>2</td>\n",
       "      <td>12</td>\n",
       "      <td>1193</td>\n",
       "      <td>4</td>\n",
       "      <td>1</td>\n",
       "      <td>32793</td>\n",
       "      <td>25-34</td>\n",
       "      <td>programmer</td>\n",
       "      <td>['Drama']</td>\n",
       "    </tr>\n",
       "    <tr>\n",
       "      <td>3</td>\n",
       "      <td>15</td>\n",
       "      <td>1193</td>\n",
       "      <td>4</td>\n",
       "      <td>1</td>\n",
       "      <td>22903</td>\n",
       "      <td>25-34</td>\n",
       "      <td>executive/managerial</td>\n",
       "      <td>['Drama']</td>\n",
       "    </tr>\n",
       "    <tr>\n",
       "      <td>4</td>\n",
       "      <td>17</td>\n",
       "      <td>1193</td>\n",
       "      <td>5</td>\n",
       "      <td>1</td>\n",
       "      <td>95350</td>\n",
       "      <td>50-55</td>\n",
       "      <td>academic/educator</td>\n",
       "      <td>['Drama']</td>\n",
       "    </tr>\n",
       "  </tbody>\n",
       "</table>\n",
       "</div>"
      ],
      "text/plain": [
       "   user_id  movie_id  rating  gender zipcode  age_desc              occ_desc  \\\n",
       "0        1      1193       5       0   48067  Under 18          K-12 student   \n",
       "1        2      1193       5       1   70072       56+         self-employed   \n",
       "2       12      1193       4       1   32793     25-34            programmer   \n",
       "3       15      1193       4       1   22903     25-34  executive/managerial   \n",
       "4       17      1193       5       1   95350     50-55     academic/educator   \n",
       "\n",
       "      genres  \n",
       "0  ['Drama']  \n",
       "1  ['Drama']  \n",
       "2  ['Drama']  \n",
       "3  ['Drama']  \n",
       "4  ['Drama']  "
      ]
     },
     "execution_count": 38,
     "metadata": {},
     "output_type": "execute_result"
    }
   ],
   "source": [
    "neural.head()"
   ]
  },
  {
   "cell_type": "code",
   "execution_count": 39,
   "metadata": {},
   "outputs": [
    {
     "data": {
      "text/plain": [
       "array(['Under 18', '56+', '25-34', '50-55', '18-24', '45-49', '35-44'],\n",
       "      dtype=object)"
      ]
     },
     "execution_count": 39,
     "metadata": {},
     "output_type": "execute_result"
    }
   ],
   "source": [
    "neural['age_desc'].unique()"
   ]
  },
  {
   "cell_type": "code",
   "execution_count": 40,
   "metadata": {},
   "outputs": [],
   "source": [
    "neural['age_desc'].replace('Under 18', 0, inplace = True)\n",
    "neural['age_desc'].replace('18-24', 1, inplace = True)\n",
    "neural['age_desc'].replace('25-34', 2, inplace = True)\n",
    "neural['age_desc'].replace('35-44', 3, inplace = True)\n",
    "neural['age_desc'].replace('45-49', 4, inplace = True)\n",
    "neural['age_desc'].replace('50-55', 5, inplace = True)\n",
    "neural['age_desc'].replace('56+', 6, inplace = True)"
   ]
  },
  {
   "cell_type": "code",
   "execution_count": null,
   "metadata": {},
   "outputs": [],
   "source": []
  },
  {
   "cell_type": "code",
   "execution_count": 41,
   "metadata": {},
   "outputs": [],
   "source": [
    "neural['occ_desc'].replace('K-12 student', 0, inplace = True)\n",
    "neural['occ_desc'].replace('self-employed', 1, inplace = True)\n",
    "neural['occ_desc'].replace('programmer', 2, inplace = True)\n",
    "neural['occ_desc'].replace('executive/managerial', 3, inplace = True)\n",
    "neural['occ_desc'].replace('academic/educator', 4, inplace = True)\n",
    "neural['occ_desc'].replace('clerical/admin', 5, inplace = True)\n",
    "neural['occ_desc'].replace('college/grad student', 6, inplace = True)\n",
    "neural['occ_desc'].replace('farmer', 7, inplace = True)\n",
    "neural['occ_desc'].replace('technician/engineer', 8, inplace = True)\n",
    "neural['occ_desc'].replace('other or not specified', 9, inplace = True)\n",
    "neural['occ_desc'].replace('artist', 10, inplace = True)\n",
    "neural['occ_desc'].replace('homemaker', 11, inplace = True)\n",
    "neural['occ_desc'].replace('unemployed', 12, inplace = True)\n",
    "neural['occ_desc'].replace('tradesman/craftsman', 13, inplace = True)\n",
    "neural['occ_desc'].replace('scientist', 14, inplace = True)\n",
    "neural['occ_desc'].replace('lawyer', 15, inplace = True)\n",
    "neural['occ_desc'].replace('writer', 16, inplace = True)\n",
    "neural['occ_desc'].replace('retired', 17, inplace = True)\n",
    "neural['occ_desc'].replace('customer service', 18, inplace = True)\n",
    "neural['occ_desc'].replace('sales/marketing', 19, inplace = True)\n",
    "neural['occ_desc'].replace('doctor/health care', 20, inplace = True)\n"
   ]
  },
  {
   "cell_type": "code",
   "execution_count": 42,
   "metadata": {},
   "outputs": [
    {
     "data": {
      "text/html": [
       "<div>\n",
       "<style scoped>\n",
       "    .dataframe tbody tr th:only-of-type {\n",
       "        vertical-align: middle;\n",
       "    }\n",
       "\n",
       "    .dataframe tbody tr th {\n",
       "        vertical-align: top;\n",
       "    }\n",
       "\n",
       "    .dataframe thead th {\n",
       "        text-align: right;\n",
       "    }\n",
       "</style>\n",
       "<table border=\"1\" class=\"dataframe\">\n",
       "  <thead>\n",
       "    <tr style=\"text-align: right;\">\n",
       "      <th></th>\n",
       "      <th>user_id</th>\n",
       "      <th>movie_id</th>\n",
       "      <th>rating</th>\n",
       "      <th>gender</th>\n",
       "      <th>zipcode</th>\n",
       "      <th>age_desc</th>\n",
       "      <th>occ_desc</th>\n",
       "      <th>genres</th>\n",
       "    </tr>\n",
       "  </thead>\n",
       "  <tbody>\n",
       "    <tr>\n",
       "      <td>0</td>\n",
       "      <td>1</td>\n",
       "      <td>1193</td>\n",
       "      <td>5</td>\n",
       "      <td>0</td>\n",
       "      <td>48067</td>\n",
       "      <td>0</td>\n",
       "      <td>0</td>\n",
       "      <td>['Drama']</td>\n",
       "    </tr>\n",
       "    <tr>\n",
       "      <td>1</td>\n",
       "      <td>2</td>\n",
       "      <td>1193</td>\n",
       "      <td>5</td>\n",
       "      <td>1</td>\n",
       "      <td>70072</td>\n",
       "      <td>6</td>\n",
       "      <td>1</td>\n",
       "      <td>['Drama']</td>\n",
       "    </tr>\n",
       "    <tr>\n",
       "      <td>2</td>\n",
       "      <td>12</td>\n",
       "      <td>1193</td>\n",
       "      <td>4</td>\n",
       "      <td>1</td>\n",
       "      <td>32793</td>\n",
       "      <td>2</td>\n",
       "      <td>2</td>\n",
       "      <td>['Drama']</td>\n",
       "    </tr>\n",
       "    <tr>\n",
       "      <td>3</td>\n",
       "      <td>15</td>\n",
       "      <td>1193</td>\n",
       "      <td>4</td>\n",
       "      <td>1</td>\n",
       "      <td>22903</td>\n",
       "      <td>2</td>\n",
       "      <td>3</td>\n",
       "      <td>['Drama']</td>\n",
       "    </tr>\n",
       "    <tr>\n",
       "      <td>4</td>\n",
       "      <td>17</td>\n",
       "      <td>1193</td>\n",
       "      <td>5</td>\n",
       "      <td>1</td>\n",
       "      <td>95350</td>\n",
       "      <td>5</td>\n",
       "      <td>4</td>\n",
       "      <td>['Drama']</td>\n",
       "    </tr>\n",
       "    <tr>\n",
       "      <td>...</td>\n",
       "      <td>...</td>\n",
       "      <td>...</td>\n",
       "      <td>...</td>\n",
       "      <td>...</td>\n",
       "      <td>...</td>\n",
       "      <td>...</td>\n",
       "      <td>...</td>\n",
       "      <td>...</td>\n",
       "    </tr>\n",
       "    <tr>\n",
       "      <td>1000204</td>\n",
       "      <td>5949</td>\n",
       "      <td>2198</td>\n",
       "      <td>5</td>\n",
       "      <td>1</td>\n",
       "      <td>47901</td>\n",
       "      <td>1</td>\n",
       "      <td>8</td>\n",
       "      <td>['Documentary']</td>\n",
       "    </tr>\n",
       "    <tr>\n",
       "      <td>1000205</td>\n",
       "      <td>5675</td>\n",
       "      <td>2703</td>\n",
       "      <td>3</td>\n",
       "      <td>1</td>\n",
       "      <td>30030</td>\n",
       "      <td>3</td>\n",
       "      <td>19</td>\n",
       "      <td>['Drama']</td>\n",
       "    </tr>\n",
       "    <tr>\n",
       "      <td>1000206</td>\n",
       "      <td>5780</td>\n",
       "      <td>2845</td>\n",
       "      <td>1</td>\n",
       "      <td>1</td>\n",
       "      <td>92886</td>\n",
       "      <td>1</td>\n",
       "      <td>8</td>\n",
       "      <td>['Drama']</td>\n",
       "    </tr>\n",
       "    <tr>\n",
       "      <td>1000207</td>\n",
       "      <td>5851</td>\n",
       "      <td>3607</td>\n",
       "      <td>5</td>\n",
       "      <td>0</td>\n",
       "      <td>55410</td>\n",
       "      <td>1</td>\n",
       "      <td>16</td>\n",
       "      <td>['Comedy', 'Drama', 'Western']</td>\n",
       "    </tr>\n",
       "    <tr>\n",
       "      <td>1000208</td>\n",
       "      <td>5938</td>\n",
       "      <td>2909</td>\n",
       "      <td>4</td>\n",
       "      <td>1</td>\n",
       "      <td>35401</td>\n",
       "      <td>2</td>\n",
       "      <td>4</td>\n",
       "      <td>['Documentary']</td>\n",
       "    </tr>\n",
       "  </tbody>\n",
       "</table>\n",
       "<p>1000209 rows × 8 columns</p>\n",
       "</div>"
      ],
      "text/plain": [
       "         user_id  movie_id  rating  gender zipcode  age_desc  occ_desc  \\\n",
       "0              1      1193       5       0   48067         0         0   \n",
       "1              2      1193       5       1   70072         6         1   \n",
       "2             12      1193       4       1   32793         2         2   \n",
       "3             15      1193       4       1   22903         2         3   \n",
       "4             17      1193       5       1   95350         5         4   \n",
       "...          ...       ...     ...     ...     ...       ...       ...   \n",
       "1000204     5949      2198       5       1   47901         1         8   \n",
       "1000205     5675      2703       3       1   30030         3        19   \n",
       "1000206     5780      2845       1       1   92886         1         8   \n",
       "1000207     5851      3607       5       0   55410         1        16   \n",
       "1000208     5938      2909       4       1   35401         2         4   \n",
       "\n",
       "                                 genres  \n",
       "0                             ['Drama']  \n",
       "1                             ['Drama']  \n",
       "2                             ['Drama']  \n",
       "3                             ['Drama']  \n",
       "4                             ['Drama']  \n",
       "...                                 ...  \n",
       "1000204                 ['Documentary']  \n",
       "1000205                       ['Drama']  \n",
       "1000206                       ['Drama']  \n",
       "1000207  ['Comedy', 'Drama', 'Western']  \n",
       "1000208                 ['Documentary']  \n",
       "\n",
       "[1000209 rows x 8 columns]"
      ]
     },
     "execution_count": 42,
     "metadata": {},
     "output_type": "execute_result"
    }
   ],
   "source": [
    "neural"
   ]
  },
  {
   "cell_type": "code",
   "execution_count": 48,
   "metadata": {},
   "outputs": [],
   "source": [
    "neural_sample = neural.sample(frac = .1)"
   ]
  },
  {
   "cell_type": "code",
   "execution_count": 49,
   "metadata": {},
   "outputs": [
    {
     "data": {
      "text/html": [
       "<div>\n",
       "<style scoped>\n",
       "    .dataframe tbody tr th:only-of-type {\n",
       "        vertical-align: middle;\n",
       "    }\n",
       "\n",
       "    .dataframe tbody tr th {\n",
       "        vertical-align: top;\n",
       "    }\n",
       "\n",
       "    .dataframe thead th {\n",
       "        text-align: right;\n",
       "    }\n",
       "</style>\n",
       "<table border=\"1\" class=\"dataframe\">\n",
       "  <thead>\n",
       "    <tr style=\"text-align: right;\">\n",
       "      <th></th>\n",
       "      <th>user_id</th>\n",
       "      <th>movie_id</th>\n",
       "      <th>rating</th>\n",
       "      <th>gender</th>\n",
       "      <th>zipcode</th>\n",
       "      <th>age_desc</th>\n",
       "      <th>occ_desc</th>\n",
       "      <th>genres</th>\n",
       "    </tr>\n",
       "  </thead>\n",
       "  <tbody>\n",
       "    <tr>\n",
       "      <td>858580</td>\n",
       "      <td>2887</td>\n",
       "      <td>880</td>\n",
       "      <td>2</td>\n",
       "      <td>1</td>\n",
       "      <td>66205</td>\n",
       "      <td>2</td>\n",
       "      <td>5</td>\n",
       "      <td>['Sci-Fi', 'Thriller']</td>\n",
       "    </tr>\n",
       "    <tr>\n",
       "      <td>413392</td>\n",
       "      <td>4172</td>\n",
       "      <td>1223</td>\n",
       "      <td>5</td>\n",
       "      <td>1</td>\n",
       "      <td>19901</td>\n",
       "      <td>3</td>\n",
       "      <td>3</td>\n",
       "      <td>['Animation', 'Comedy']</td>\n",
       "    </tr>\n",
       "    <tr>\n",
       "      <td>148906</td>\n",
       "      <td>2125</td>\n",
       "      <td>3809</td>\n",
       "      <td>3</td>\n",
       "      <td>1</td>\n",
       "      <td>46033</td>\n",
       "      <td>3</td>\n",
       "      <td>5</td>\n",
       "      <td>['Comedy']</td>\n",
       "    </tr>\n",
       "    <tr>\n",
       "      <td>633316</td>\n",
       "      <td>3982</td>\n",
       "      <td>2173</td>\n",
       "      <td>2</td>\n",
       "      <td>1</td>\n",
       "      <td>95929</td>\n",
       "      <td>6</td>\n",
       "      <td>17</td>\n",
       "      <td>['Adventure', 'Fantasy', 'Sci-Fi']</td>\n",
       "    </tr>\n",
       "    <tr>\n",
       "      <td>109942</td>\n",
       "      <td>5076</td>\n",
       "      <td>2858</td>\n",
       "      <td>4</td>\n",
       "      <td>1</td>\n",
       "      <td>19147</td>\n",
       "      <td>2</td>\n",
       "      <td>5</td>\n",
       "      <td>['Comedy', 'Drama']</td>\n",
       "    </tr>\n",
       "    <tr>\n",
       "      <td>...</td>\n",
       "      <td>...</td>\n",
       "      <td>...</td>\n",
       "      <td>...</td>\n",
       "      <td>...</td>\n",
       "      <td>...</td>\n",
       "      <td>...</td>\n",
       "      <td>...</td>\n",
       "      <td>...</td>\n",
       "    </tr>\n",
       "    <tr>\n",
       "      <td>600326</td>\n",
       "      <td>4141</td>\n",
       "      <td>762</td>\n",
       "      <td>4</td>\n",
       "      <td>1</td>\n",
       "      <td>95014</td>\n",
       "      <td>3</td>\n",
       "      <td>8</td>\n",
       "      <td>['Comedy', 'Crime']</td>\n",
       "    </tr>\n",
       "    <tr>\n",
       "      <td>850890</td>\n",
       "      <td>4227</td>\n",
       "      <td>1353</td>\n",
       "      <td>1</td>\n",
       "      <td>1</td>\n",
       "      <td>11414-2520</td>\n",
       "      <td>2</td>\n",
       "      <td>12</td>\n",
       "      <td>['Comedy', 'Romance']</td>\n",
       "    </tr>\n",
       "    <tr>\n",
       "      <td>375742</td>\n",
       "      <td>1865</td>\n",
       "      <td>111</td>\n",
       "      <td>3</td>\n",
       "      <td>0</td>\n",
       "      <td>94606</td>\n",
       "      <td>1</td>\n",
       "      <td>4</td>\n",
       "      <td>['Drama', 'Thriller']</td>\n",
       "    </tr>\n",
       "    <tr>\n",
       "      <td>518084</td>\n",
       "      <td>2343</td>\n",
       "      <td>2946</td>\n",
       "      <td>3</td>\n",
       "      <td>0</td>\n",
       "      <td>01604</td>\n",
       "      <td>4</td>\n",
       "      <td>4</td>\n",
       "      <td>['Comedy', 'Musical']</td>\n",
       "    </tr>\n",
       "    <tr>\n",
       "      <td>821298</td>\n",
       "      <td>4497</td>\n",
       "      <td>3546</td>\n",
       "      <td>4</td>\n",
       "      <td>1</td>\n",
       "      <td>29678</td>\n",
       "      <td>5</td>\n",
       "      <td>9</td>\n",
       "      <td>['Drama', 'Thriller']</td>\n",
       "    </tr>\n",
       "  </tbody>\n",
       "</table>\n",
       "<p>100021 rows × 8 columns</p>\n",
       "</div>"
      ],
      "text/plain": [
       "        user_id  movie_id  rating  gender     zipcode  age_desc  occ_desc  \\\n",
       "858580     2887       880       2       1       66205         2         5   \n",
       "413392     4172      1223       5       1       19901         3         3   \n",
       "148906     2125      3809       3       1       46033         3         5   \n",
       "633316     3982      2173       2       1       95929         6        17   \n",
       "109942     5076      2858       4       1       19147         2         5   \n",
       "...         ...       ...     ...     ...         ...       ...       ...   \n",
       "600326     4141       762       4       1       95014         3         8   \n",
       "850890     4227      1353       1       1  11414-2520         2        12   \n",
       "375742     1865       111       3       0       94606         1         4   \n",
       "518084     2343      2946       3       0       01604         4         4   \n",
       "821298     4497      3546       4       1       29678         5         9   \n",
       "\n",
       "                                    genres  \n",
       "858580              ['Sci-Fi', 'Thriller']  \n",
       "413392             ['Animation', 'Comedy']  \n",
       "148906                          ['Comedy']  \n",
       "633316  ['Adventure', 'Fantasy', 'Sci-Fi']  \n",
       "109942                 ['Comedy', 'Drama']  \n",
       "...                                    ...  \n",
       "600326                 ['Comedy', 'Crime']  \n",
       "850890               ['Comedy', 'Romance']  \n",
       "375742               ['Drama', 'Thriller']  \n",
       "518084               ['Comedy', 'Musical']  \n",
       "821298               ['Drama', 'Thriller']  \n",
       "\n",
       "[100021 rows x 8 columns]"
      ]
     },
     "execution_count": 49,
     "metadata": {},
     "output_type": "execute_result"
    }
   ],
   "source": [
    "neural_sample"
   ]
  },
  {
   "cell_type": "code",
   "execution_count": 50,
   "metadata": {},
   "outputs": [],
   "source": [
    "y_orig = neural_sample['rating']\n",
    "x_orig = neural_sample.drop(columns='rating') \n",
    "x_orig = x_orig.drop(columns='genres') \n",
    "x_orig = x_orig.drop(columns='user_id') \n",
    "x_orig = x_orig.drop(columns='zipcode') "
   ]
  },
  {
   "cell_type": "code",
   "execution_count": 51,
   "metadata": {},
   "outputs": [],
   "source": [
    "from sklearn import preprocessing, model_selection\n",
    "\n",
    "\n",
    "x, x_test, y, y_test = model_selection.train_test_split(x_orig,y_orig)\n",
    "\n",
    "scaler = preprocessing.StandardScaler()\n",
    "x = scaler.fit_transform(x)\n",
    "x_test = scaler.fit_transform(x_test)"
   ]
  },
  {
   "cell_type": "code",
   "execution_count": 52,
   "metadata": {},
   "outputs": [],
   "source": [
    "from sklearn import metrics\n",
    "\n",
    "def benchmark(model):\n",
    "    y_pred = model.predict(x_test)\n",
    "\n",
    "    print(f\"mae: {metrics.mean_absolute_error(y_test, y_pred):,.2f}\")\n",
    "    print(f\"mse: {metrics.mean_squared_error(y_test, y_pred):,.2f}\")"
   ]
  },
  {
   "cell_type": "code",
   "execution_count": 77,
   "metadata": {},
   "outputs": [
    {
     "name": "stdout",
     "output_type": "stream",
     "text": [
      "Model: \"sequential_8\"\n",
      "_________________________________________________________________\n",
      "Layer (type)                 Output Shape              Param #   \n",
      "=================================================================\n",
      "dense_33 (Dense)             (None, 30)                150       \n",
      "_________________________________________________________________\n",
      "dropout_17 (Dropout)         (None, 30)                0         \n",
      "_________________________________________________________________\n",
      "dense_34 (Dense)             (None, 20)                620       \n",
      "_________________________________________________________________\n",
      "dropout_18 (Dropout)         (None, 20)                0         \n",
      "_________________________________________________________________\n",
      "dense_35 (Dense)             (None, 10)                210       \n",
      "_________________________________________________________________\n",
      "dropout_19 (Dropout)         (None, 10)                0         \n",
      "_________________________________________________________________\n",
      "dense_36 (Dense)             (None, 5)                 55        \n",
      "=================================================================\n",
      "Total params: 1,035\n",
      "Trainable params: 1,035\n",
      "Non-trainable params: 0\n",
      "_________________________________________________________________\n"
     ]
    }
   ],
   "source": [
    "DROP = 0.05\n",
    "student_model = tensorflow.keras.Sequential([\n",
    "    tensorflow.keras.layers.InputLayer(input_shape=x.shape[1:]),\n",
    "    tensorflow.keras.layers.Dense(units=30, activation=\"relu\",\n",
    "                      kernel_regularizer=tensorflow.keras.regularizers.l2(30)),\n",
    "    tensorflow.keras.layers.Dropout(DROP),\n",
    "    tensorflow.keras.layers.Dense(units=20, activation=\"relu\",\n",
    "                       kernel_regularizer=tensorflow.keras.regularizers.l2(20)),\n",
    "    tensorflow.keras.layers.Dropout(DROP),\n",
    "    tensorflow.keras.layers.Dense(units=10, activation=\"relu\",\n",
    "                        kernel_regularizer=tensorflow.keras.regularizers.l2(10)),\n",
    "    tensorflow.keras.layers.Dropout(DROP),\n",
    "#     tensorflow.keras.layers.Dense(units=485, activation=\"relu\",\n",
    "#                         kernel_regularizer=tensorflow.keras.regularizers.l2(485)),\n",
    "    #tensorflow.keras.layers.Dropout(DROP),\n",
    "    #tensorflow.keras.layers.Dense(units=1, activation=\"relu\",\n",
    "    #                    kernel_regularizer=tensorflow.keras.regularizers.l2(1)),\n",
    "#     tensorflow.keras.layers.Dropout(.5*DROP),\n",
    "#     tensorflow.keras.layers.Dense(units=40, activation=\"relu\",\n",
    "#                        kernel_regularizer=tensorflow.keras.regularizers.l2(L2)),\n",
    "#     tensorflow.keras.layers.Dropout(.5*DROP),\n",
    "#     tensorflow.keras.layers.Dense(units=20, activation=\"relu\",\n",
    "#                        kernel_regularizer=tensorflow.keras.regularizers.l2(L2)),\n",
    "#     keras.layers.Dropout(DROP),\n",
    "    tensorflow.keras.layers.Dense(units=5),\n",
    "])\n",
    "student_model.compile(\n",
    "    tensorflow.keras.optimizers.Adam(lr=0.01), loss=\"mean_absolute_error\",\n",
    "    metrics=[\"mean_absolute_error\", \"mean_squared_error\"])\n",
    "student_model.summary()"
   ]
  },
  {
   "cell_type": "code",
   "execution_count": 78,
   "metadata": {
    "scrolled": true
   },
   "outputs": [
    {
     "name": "stdout",
     "output_type": "stream",
     "text": [
      "Train on 56261 samples, validate on 18754 samples\n",
      "Epoch 1/30\n",
      "56261/56261 [==============================] - 2s 38us/sample - loss: 6.0944 - mean_absolute_error: 0.9498 - mean_squared_error: 1.5829 - val_loss: 0.9024 - val_mean_absolute_error: 0.9024 - val_mean_squared_error: 1.3409\n",
      "Epoch 2/30\n",
      "56261/56261 [==============================] - 2s 30us/sample - loss: 0.9001 - mean_absolute_error: 0.8999 - mean_squared_error: 1.3864 - val_loss: 0.8995 - val_mean_absolute_error: 0.8991 - val_mean_squared_error: 1.3543\n",
      "Epoch 3/30\n",
      "56261/56261 [==============================] - 2s 30us/sample - loss: 0.8950 - mean_absolute_error: 0.8948 - mean_squared_error: 1.3833 - val_loss: 0.8898 - val_mean_absolute_error: 0.8887 - val_mean_squared_error: 1.4039\n",
      "Epoch 4/30\n",
      "56261/56261 [==============================] - 2s 30us/sample - loss: 0.8908 - mean_absolute_error: 0.8903 - mean_squared_error: 1.3853 - val_loss: 0.8942 - val_mean_absolute_error: 0.8920 - val_mean_squared_error: 1.3868\n",
      "Epoch 5/30\n",
      "56261/56261 [==============================] - 2s 30us/sample - loss: 0.8882 - mean_absolute_error: 0.8879 - mean_squared_error: 1.3925 - val_loss: 0.8916 - val_mean_absolute_error: 0.8911 - val_mean_squared_error: 1.3914\n",
      "Epoch 6/30\n",
      "56261/56261 [==============================] - 2s 30us/sample - loss: 0.8833 - mean_absolute_error: 0.8830 - mean_squared_error: 1.4034 - val_loss: 0.8851 - val_mean_absolute_error: 0.8849 - val_mean_squared_error: 1.4249\n",
      "Epoch 7/30\n",
      "56261/56261 [==============================] - 2s 30us/sample - loss: 0.8792 - mean_absolute_error: 0.8789 - mean_squared_error: 1.4167 - val_loss: 0.8852 - val_mean_absolute_error: 0.8849 - val_mean_squared_error: 1.4250\n",
      "Epoch 8/30\n",
      "56261/56261 [==============================] - 2s 30us/sample - loss: 0.8763 - mean_absolute_error: 0.8759 - mean_squared_error: 1.4314 - val_loss: 0.8829 - val_mean_absolute_error: 0.8823 - val_mean_squared_error: 1.4441\n",
      "Epoch 9/30\n",
      "56261/56261 [==============================] - 2s 31us/sample - loss: 0.8753 - mean_absolute_error: 0.8749 - mean_squared_error: 1.4357 - val_loss: 0.8826 - val_mean_absolute_error: 0.8823 - val_mean_squared_error: 1.4401\n",
      "Epoch 10/30\n",
      "56261/56261 [==============================] - 2s 31us/sample - loss: 0.8752 - mean_absolute_error: 0.8749 - mean_squared_error: 1.4360 - val_loss: 0.8822 - val_mean_absolute_error: 0.8819 - val_mean_squared_error: 1.4426\n",
      "Epoch 11/30\n",
      "56261/56261 [==============================] - 2s 30us/sample - loss: 0.8752 - mean_absolute_error: 0.8749 - mean_squared_error: 1.4359 - val_loss: 0.8820 - val_mean_absolute_error: 0.8817 - val_mean_squared_error: 1.4439\n",
      "Epoch 12/30\n",
      "56261/56261 [==============================] - 2s 30us/sample - loss: 0.8752 - mean_absolute_error: 0.8748 - mean_squared_error: 1.4363 - val_loss: 0.8824 - val_mean_absolute_error: 0.8821 - val_mean_squared_error: 1.4418\n",
      "Epoch 13/30\n",
      "56261/56261 [==============================] - 2s 30us/sample - loss: 0.8752 - mean_absolute_error: 0.8749 - mean_squared_error: 1.4361 - val_loss: 0.8824 - val_mean_absolute_error: 0.8818 - val_mean_squared_error: 1.4429\n",
      "Epoch 14/30\n",
      "56261/56261 [==============================] - 2s 31us/sample - loss: 0.8752 - mean_absolute_error: 0.8748 - mean_squared_error: 1.4362 - val_loss: 0.8829 - val_mean_absolute_error: 0.8824 - val_mean_squared_error: 1.4433\n",
      "Epoch 15/30\n",
      "56261/56261 [==============================] - 2s 31us/sample - loss: 0.8753 - mean_absolute_error: 0.8749 - mean_squared_error: 1.4359 - val_loss: 0.8844 - val_mean_absolute_error: 0.8842 - val_mean_squared_error: 1.4290\n",
      "Epoch 16/30\n",
      "55616/56261 [============================>.] - ETA: 0s - loss: 0.8755 - mean_absolute_error: 0.8752 - mean_squared_error: 1.4372\n",
      "Epoch 00016: ReduceLROnPlateau reducing learning rate to 0.004999999888241291.\n",
      "56261/56261 [==============================] - 2s 31us/sample - loss: 0.8752 - mean_absolute_error: 0.8749 - mean_squared_error: 1.4361 - val_loss: 0.8820 - val_mean_absolute_error: 0.8818 - val_mean_squared_error: 1.4441\n",
      "Epoch 17/30\n",
      "56261/56261 [==============================] - 2s 31us/sample - loss: 0.8746 - mean_absolute_error: 0.8745 - mean_squared_error: 1.4375 - val_loss: 0.8819 - val_mean_absolute_error: 0.8817 - val_mean_squared_error: 1.4440\n",
      "Epoch 18/30\n",
      "56261/56261 [==============================] - 2s 32us/sample - loss: 0.8746 - mean_absolute_error: 0.8745 - mean_squared_error: 1.4375 - val_loss: 0.8819 - val_mean_absolute_error: 0.8818 - val_mean_squared_error: 1.4430\n",
      "Epoch 19/30\n",
      "56261/56261 [==============================] - 2s 32us/sample - loss: 0.8746 - mean_absolute_error: 0.8745 - mean_squared_error: 1.4374 - val_loss: 0.8820 - val_mean_absolute_error: 0.8820 - val_mean_squared_error: 1.4426\n",
      "Epoch 20/30\n",
      "56261/56261 [==============================] - 2s 31us/sample - loss: 0.8746 - mean_absolute_error: 0.8745 - mean_squared_error: 1.4375 - val_loss: 0.8823 - val_mean_absolute_error: 0.8823 - val_mean_squared_error: 1.4412\n",
      "Epoch 21/30\n",
      "56261/56261 [==============================] - 2s 30us/sample - loss: 0.8746 - mean_absolute_error: 0.8745 - mean_squared_error: 1.4374 - val_loss: 0.8818 - val_mean_absolute_error: 0.8818 - val_mean_squared_error: 1.4429\n",
      "Epoch 22/30\n",
      "56261/56261 [==============================] - 2s 31us/sample - loss: 0.8746 - mean_absolute_error: 0.8745 - mean_squared_error: 1.4375 - val_loss: 0.8821 - val_mean_absolute_error: 0.8819 - val_mean_squared_error: 1.4455\n",
      "Epoch 23/30\n",
      "54592/56261 [============================>.] - ETA: 0s - loss: 0.8751 - mean_absolute_error: 0.8750 - mean_squared_error: 1.4385\n",
      "Epoch 00023: ReduceLROnPlateau reducing learning rate to 0.0024999999441206455.\n",
      "56261/56261 [==============================] - 2s 31us/sample - loss: 0.8746 - mean_absolute_error: 0.8745 - mean_squared_error: 1.4374 - val_loss: 0.8818 - val_mean_absolute_error: 0.8817 - val_mean_squared_error: 1.4435\n",
      "Epoch 24/30\n",
      "56261/56261 [==============================] - 2s 31us/sample - loss: 0.8743 - mean_absolute_error: 0.8743 - mean_squared_error: 1.4382 - val_loss: 0.8817 - val_mean_absolute_error: 0.8816 - val_mean_squared_error: 1.4444\n",
      "Epoch 25/30\n",
      "56261/56261 [==============================] - 2s 31us/sample - loss: 0.8743 - mean_absolute_error: 0.8743 - mean_squared_error: 1.4382 - val_loss: 0.8816 - val_mean_absolute_error: 0.8816 - val_mean_squared_error: 1.4442\n",
      "Epoch 26/30\n",
      "56261/56261 [==============================] - 2s 31us/sample - loss: 0.8744 - mean_absolute_error: 0.8743 - mean_squared_error: 1.4382 - val_loss: 0.8817 - val_mean_absolute_error: 0.8817 - val_mean_squared_error: 1.4435\n",
      "Epoch 27/30\n",
      "56261/56261 [==============================] - 2s 31us/sample - loss: 0.8744 - mean_absolute_error: 0.8743 - mean_squared_error: 1.4382 - val_loss: 0.8816 - val_mean_absolute_error: 0.8815 - val_mean_squared_error: 1.4445\n",
      "Epoch 28/30\n",
      "56261/56261 [==============================] - 2s 31us/sample - loss: 0.8744 - mean_absolute_error: 0.8743 - mean_squared_error: 1.4382 - val_loss: 0.8818 - val_mean_absolute_error: 0.8818 - val_mean_squared_error: 1.4431\n",
      "Epoch 29/30\n",
      "56261/56261 [==============================] - 2s 32us/sample - loss: 0.8744 - mean_absolute_error: 0.8744 - mean_squared_error: 1.4381 - val_loss: 0.8816 - val_mean_absolute_error: 0.8815 - val_mean_squared_error: 1.4444\n",
      "Epoch 30/30\n",
      "56261/56261 [==============================] - 2s 32us/sample - loss: 0.8744 - mean_absolute_error: 0.8743 - mean_squared_error: 1.4382 - val_loss: 0.8817 - val_mean_absolute_error: 0.8817 - val_mean_squared_error: 1.4435\n"
     ]
    },
    {
     "data": {
      "text/plain": [
       "<tensorflow.python.keras.callbacks.History at 0x13d59eb10>"
      ]
     },
     "execution_count": 78,
     "metadata": {},
     "output_type": "execute_result"
    }
   ],
   "source": [
    "student_model.fit(\n",
    "    x, y, epochs=30, validation_split=.25, verbose=1, callbacks=[\n",
    "        tensorflow.keras.callbacks.EarlyStopping(\n",
    "            restore_best_weights = True,\n",
    "            patience=10,\n",
    "            verbose=1,\n",
    "        ),\n",
    "        tensorflow.keras.callbacks.ReduceLROnPlateau(\n",
    "            factor=.5,\n",
    "            patience=5,\n",
    "            verbose=1,\n",
    "        ),\n",
    "    ])"
   ]
  },
  {
   "cell_type": "code",
   "execution_count": 108,
   "metadata": {},
   "outputs": [
    {
     "data": {
      "text/html": [
       "<div>\n",
       "<style scoped>\n",
       "    .dataframe tbody tr th:only-of-type {\n",
       "        vertical-align: middle;\n",
       "    }\n",
       "\n",
       "    .dataframe tbody tr th {\n",
       "        vertical-align: top;\n",
       "    }\n",
       "\n",
       "    .dataframe thead th {\n",
       "        text-align: right;\n",
       "    }\n",
       "</style>\n",
       "<table border=\"1\" class=\"dataframe\">\n",
       "  <thead>\n",
       "    <tr style=\"text-align: right;\">\n",
       "      <th></th>\n",
       "      <th>user_id</th>\n",
       "      <th>gender</th>\n",
       "      <th>zipcode</th>\n",
       "      <th>age_desc</th>\n",
       "      <th>occ_desc</th>\n",
       "    </tr>\n",
       "  </thead>\n",
       "  <tbody>\n",
       "    <tr>\n",
       "      <td>155</td>\n",
       "      <td>156</td>\n",
       "      <td>F</td>\n",
       "      <td>14519</td>\n",
       "      <td>45-49</td>\n",
       "      <td>executive/managerial</td>\n",
       "    </tr>\n",
       "  </tbody>\n",
       "</table>\n",
       "</div>"
      ],
      "text/plain": [
       "     user_id gender zipcode age_desc              occ_desc\n",
       "155      156      F   14519    45-49  executive/managerial"
      ]
     },
     "execution_count": 108,
     "metadata": {},
     "output_type": "execute_result"
    }
   ],
   "source": [
    "users[users['user_id'] == 156]"
   ]
  },
  {
   "cell_type": "code",
   "execution_count": 75,
   "metadata": {},
   "outputs": [],
   "source": []
  },
  {
   "cell_type": "code",
   "execution_count": 79,
   "metadata": {},
   "outputs": [],
   "source": [
    "pred_func = lambda x: student_model.predict(x)"
   ]
  },
  {
   "cell_type": "code",
   "execution_count": null,
   "metadata": {},
   "outputs": [],
   "source": []
  }
 ],
 "metadata": {
  "kernelspec": {
   "display_name": "Python 3",
   "language": "python",
   "name": "python3"
  },
  "language_info": {
   "codemirror_mode": {
    "name": "ipython",
    "version": 3
   },
   "file_extension": ".py",
   "mimetype": "text/x-python",
   "name": "python",
   "nbconvert_exporter": "python",
   "pygments_lexer": "ipython3",
   "version": "3.7.4"
  }
 },
 "nbformat": 4,
 "nbformat_minor": 2
}
